{
 "cells": [
  {
   "cell_type": "markdown",
   "metadata": {},
   "source": [
    "# Resampling Methods - Lab\n",
    "\n",
    "## Introduction\n",
    "\n",
    "Now that you have some preliminary background on bootstrapping, jackknife, and permutation tests, its time to practice those skills by coding them into functions. You'll then apply these tests to a hypothesis test and compare the results to a parametric t-test.\n",
    "\n",
    "## Objectives\n",
    "\n",
    "In this lab you will: \n",
    "\n",
    "* Create functions that perform resampling techniques and use them on datasets"
   ]
  },
  {
   "cell_type": "markdown",
   "metadata": {},
   "source": [
    "## Bootstrap sampling\n",
    "\n",
    "\n",
    "Bootstrap sampling works by combining two distinct samples into a universal set and generating random samples from this combined sample space in order to compare these random splits to the two original samples. The idea is to see if the difference between the two **original** samples is statistically significant. If similar differences can be observed through the random generation of samples, then the observed differences are not actually significant.\n",
    "\n",
    "\n",
    "Write a function to perform bootstrap sampling. The function should take in two samples A and B. The two samples need not be the same size. From this, create a universal sample by combining A and B. Then, create a resampled universal sample of the same size using random sampling with replacement. Finally, split this randomly generated universal set into two samples which are the same size as the original samples, A and B. The function should return these resampled samples.\n",
    "\n",
    "Example:\n",
    "\n",
    "```python\n",
    "\n",
    "A = [1,2,3]\n",
    "B = [2,2,5,6]\n",
    "\n",
    "Universal_Set = [1,2,2,2,3,5,6]\n",
    "Resampled_Universal_Set = [6, 2, 3, 2, 1, 1, 2] # Could be different (randomly generated with replacement)\n",
    "\n",
    "Resampled_A = [6,2,3]\n",
    "Resampled_B = [2,1,1,2]\n",
    "```"
   ]
  },
  {
   "cell_type": "code",
   "execution_count": 2,
   "metadata": {},
   "outputs": [],
   "source": [
    "import numpy as np\n"
   ]
  },
  {
   "cell_type": "code",
   "execution_count": 3,
   "metadata": {},
   "outputs": [
    {
     "name": "stdout",
     "output_type": "stream",
     "text": [
      "[1, 2, 3, 2, 2, 5, 6]\n"
     ]
    },
    {
     "data": {
      "text/plain": [
       "array([2, 3, 2, 6, 6, 6, 3])"
      ]
     },
     "execution_count": 3,
     "metadata": {},
     "output_type": "execute_result"
    }
   ],
   "source": [
    "\n",
    "A = [1,2,3]\n",
    "B = [2,2,5,6]\n",
    "print(A+B)\n",
    "np.random.choice(A+B,len(A+B),replace=True)"
   ]
  },
  {
   "cell_type": "code",
   "execution_count": 4,
   "metadata": {},
   "outputs": [],
   "source": [
    "\n",
    "def bootstrap(sample1,sample2):\n",
    "    \n",
    "    #create universal set by combining sample1 and 2\n",
    "    Universal_Set=sample1+sample2\n",
    "    #create a resampled universal sample of the same size using random sampling with replacement.\n",
    "    Resampled_Universal_Set=np.random.choice(Universal_Set,len(Universal_Set),replace=True)\n",
    "    #split this randomly generated universal set into two samples which are the same size as the original samples\n",
    "    Resampled1=Resampled_Universal_Set[:len(sample1)]\n",
    "    Resampled2=Resampled_Universal_Set[len(sample1):]\n",
    "    return Resampled1,Resampled2"
   ]
  },
  {
   "cell_type": "code",
   "execution_count": 5,
   "metadata": {},
   "outputs": [
    {
     "data": {
      "text/plain": [
       "(array([5, 2, 1]), array([3, 2, 1, 1]))"
      ]
     },
     "execution_count": 5,
     "metadata": {},
     "output_type": "execute_result"
    }
   ],
   "source": [
    "A = [1,2,3]\n",
    "B = [2,2,5,6]\n",
    "bootstrap(A,B)"
   ]
  },
  {
   "cell_type": "markdown",
   "metadata": {},
   "source": [
    "## Jackknife \n",
    "\n",
    "Write a function that creates additional samples by removing one element at a time. The function should do this for each of the `n` items in the original sample, returning `n` samples, each with `n-1` members."
   ]
  },
  {
   "cell_type": "code",
   "execution_count": 6,
   "metadata": {},
   "outputs": [
    {
     "data": {
      "text/plain": [
       "[1, 2, 3, 3, 3, 4, 4, 5, 7, 8, 9, 1, 2, 3, 4, 5, 6]"
      ]
     },
     "execution_count": 6,
     "metadata": {},
     "output_type": "execute_result"
    }
   ],
   "source": [
    "listo=[1,2,3,3,3,4,4,5,6,7,8,9,1,2,3,4,5,6]\n",
    "listo[:8]+listo[9:]"
   ]
  },
  {
   "cell_type": "code",
   "execution_count": 7,
   "metadata": {},
   "outputs": [],
   "source": [
    "def jack1(list_of_observations):\n",
    "    \"\"\"This function should take in a list of n observations and return n lists\n",
    "    each with one member (presumably the nth) removed.\"\"\"\n",
    "    samples=[]\n",
    "    for i in range(len(list_of_observations)):\n",
    "        samples.append(list_of_observations[:i] + list_of_observations[i+1:])\n",
    "    return samples\n",
    "    "
   ]
  },
  {
   "cell_type": "code",
   "execution_count": 8,
   "metadata": {},
   "outputs": [
    {
     "name": "stdout",
     "output_type": "stream",
     "text": [
      "[1, 2, 3, 3, 3, 4, 4, 5, 6, 7, 8, 9, 1, 2, 3, 4, 5, 6]\n"
     ]
    },
    {
     "data": {
      "text/plain": [
       "[[2, 3, 3, 3, 4, 4, 5, 6, 7, 8, 9, 1, 2, 3, 4, 5, 6],\n",
       " [1, 3, 3, 3, 4, 4, 5, 6, 7, 8, 9, 1, 2, 3, 4, 5, 6],\n",
       " [1, 2, 3, 3, 4, 4, 5, 6, 7, 8, 9, 1, 2, 3, 4, 5, 6],\n",
       " [1, 2, 3, 3, 4, 4, 5, 6, 7, 8, 9, 1, 2, 3, 4, 5, 6],\n",
       " [1, 2, 3, 3, 4, 4, 5, 6, 7, 8, 9, 1, 2, 3, 4, 5, 6],\n",
       " [1, 2, 3, 3, 3, 4, 5, 6, 7, 8, 9, 1, 2, 3, 4, 5, 6],\n",
       " [1, 2, 3, 3, 3, 4, 5, 6, 7, 8, 9, 1, 2, 3, 4, 5, 6],\n",
       " [1, 2, 3, 3, 3, 4, 4, 6, 7, 8, 9, 1, 2, 3, 4, 5, 6],\n",
       " [1, 2, 3, 3, 3, 4, 4, 5, 7, 8, 9, 1, 2, 3, 4, 5, 6],\n",
       " [1, 2, 3, 3, 3, 4, 4, 5, 6, 8, 9, 1, 2, 3, 4, 5, 6],\n",
       " [1, 2, 3, 3, 3, 4, 4, 5, 6, 7, 9, 1, 2, 3, 4, 5, 6],\n",
       " [1, 2, 3, 3, 3, 4, 4, 5, 6, 7, 8, 1, 2, 3, 4, 5, 6],\n",
       " [1, 2, 3, 3, 3, 4, 4, 5, 6, 7, 8, 9, 2, 3, 4, 5, 6],\n",
       " [1, 2, 3, 3, 3, 4, 4, 5, 6, 7, 8, 9, 1, 3, 4, 5, 6],\n",
       " [1, 2, 3, 3, 3, 4, 4, 5, 6, 7, 8, 9, 1, 2, 4, 5, 6],\n",
       " [1, 2, 3, 3, 3, 4, 4, 5, 6, 7, 8, 9, 1, 2, 3, 5, 6],\n",
       " [1, 2, 3, 3, 3, 4, 4, 5, 6, 7, 8, 9, 1, 2, 3, 4, 6],\n",
       " [1, 2, 3, 3, 3, 4, 4, 5, 6, 7, 8, 9, 1, 2, 3, 4, 5]]"
      ]
     },
     "execution_count": 8,
     "metadata": {},
     "output_type": "execute_result"
    }
   ],
   "source": [
    "listo=[1,2,3,3,3,4,4,5,6,7,8,9,1,2,3,4,5,6]\n",
    "print(listo)\n",
    "res=jack1(listo)\n",
    "res"
   ]
  },
  {
   "cell_type": "code",
   "execution_count": 9,
   "metadata": {},
   "outputs": [
    {
     "data": {
      "text/plain": [
       "(18, 18)"
      ]
     },
     "execution_count": 9,
     "metadata": {},
     "output_type": "execute_result"
    }
   ],
   "source": [
    "len(listo),len(res)"
   ]
  },
  {
   "cell_type": "code",
   "execution_count": 10,
   "metadata": {},
   "outputs": [
    {
     "name": "stdout",
     "output_type": "stream",
     "text": [
      "17\n",
      "17\n",
      "17\n",
      "17\n",
      "17\n",
      "17\n",
      "17\n",
      "17\n",
      "17\n",
      "17\n",
      "17\n",
      "17\n",
      "17\n",
      "17\n",
      "17\n",
      "17\n",
      "17\n",
      "17\n"
     ]
    }
   ],
   "source": [
    "for elem in res:\n",
    "    print(len(elem))"
   ]
  },
  {
   "cell_type": "markdown",
   "metadata": {},
   "source": [
    "## Permutation testing\n",
    "\n",
    "Define a function that generates all possible, equally sized, two set splits of two sets A and B. Sets A and B need not be the same size, but all of the generated two set splits should be of equal size. For example, if we had a set with 5 members and a set with 7 members, the function would return all possible 5-7 ordered splits of the 12 items.\n",
    "\n",
    "> Note that these are actually combinations! However, as noted previously, permutation tests really investigate possible regroupings of the data observations, so calculating combinations is a more efficient approach!\n",
    "\n",
    "\n",
    "Here's a more in depth example:\n",
    "\n",
    "```python\n",
    "A = [1, 2, 2]\n",
    "B = [1, 3]\n",
    "combT(A, B) \n",
    "[([1,2,2], [1,3]),\n",
    " ([1,2,3], [1,2]),\n",
    " ([1,2,1], [2,3]),\n",
    " ([1,1,3], [2,2]),\n",
    " ([2,2,3], [1,1])]\n",
    "               \n",
    "```  \n",
    "\n",
    "These are all the possible 3-2 member splits of the 5 elements: 1, 1, 2, 2, 3. "
   ]
  },
  {
   "cell_type": "code",
   "execution_count": 11,
   "metadata": {},
   "outputs": [],
   "source": [
    "import itertools"
   ]
  },
  {
   "cell_type": "code",
   "execution_count": 12,
   "metadata": {},
   "outputs": [
    {
     "name": "stdout",
     "output_type": "stream",
     "text": [
      "[1, 2, 2, 1, 3] [1, 1, 2, 2, 3]\n",
      "[(1, 2, 2), (1, 2, 1), (1, 2, 3), (1, 2, 1), (1, 2, 3), (1, 1, 3), (2, 2, 1), (2, 2, 3), (2, 1, 3), (2, 1, 3)]\n",
      "{(1, 2, 1), (1, 2, 2), (1, 1, 3), (2, 2, 1), (1, 2, 3), (2, 2, 3), (2, 1, 3)}\n",
      "[(1, 1, 2), (1, 1, 2), (1, 1, 3), (1, 2, 2), (1, 2, 3), (1, 2, 3), (1, 2, 2), (1, 2, 3), (1, 2, 3), (2, 2, 3)]\n",
      "{(1, 1, 3), (1, 2, 2), (1, 2, 3), (1, 1, 2), (2, 2, 3)}\n"
     ]
    }
   ],
   "source": [
    "\n",
    "A = [1, 2, 2]\n",
    "B = [1, 3]\n",
    "\n",
    "AB = A+B\n",
    "\n",
    "ABs=sorted(A+B)\n",
    "print(AB,ABs)\n",
    "\n",
    "comb=list(itertools.combinations(AB,3))\n",
    "print(comb)\n",
    "print(set(comb))\n",
    "\n",
    "combs=list(itertools.combinations(ABs,3))\n",
    "print(combs)\n",
    "print(set(combs))"
   ]
  },
  {
   "cell_type": "code",
   "execution_count": 13,
   "metadata": {},
   "outputs": [
    {
     "name": "stdout",
     "output_type": "stream",
     "text": [
      "[3, 4, 1, 2] [1, 2, 3, 4]\n",
      "{(1, 2), (3, 2), (4, 1), (3, 1), (4, 2), (3, 4)}\n",
      "{(1, 2), (1, 3), (1, 4), (2, 3), (3, 4), (2, 4)}\n"
     ]
    }
   ],
   "source": [
    "A = [3, 4]\n",
    "B = [1, 2]\n",
    "AB = A+B\n",
    "\n",
    "ABs=sorted(A+B)\n",
    "print(AB,ABs)\n",
    "\n",
    "comb=itertools.combinations(AB,2)\n",
    "print(set(comb))\n",
    "\n",
    "combs=itertools.combinations(ABs,2)\n",
    "print(set(combs))"
   ]
  },
  {
   "cell_type": "code",
   "execution_count": 14,
   "metadata": {},
   "outputs": [
    {
     "name": "stdout",
     "output_type": "stream",
     "text": [
      "[4, 5, 1, 2, 3] [1, 2, 3, 4, 5]\n",
      "{(4, 5, 2), (4, 1, 3), (5, 1, 2), (5, 2, 3), (4, 5, 3), (1, 2, 3), (5, 1, 3), (4, 2, 3), (4, 5, 1), (4, 1, 2)}\n",
      "{(2, 3, 5), (1, 2, 3), (1, 3, 5), (1, 4, 5), (1, 2, 4), (1, 3, 4), (2, 4, 5), (3, 4, 5), (2, 3, 4), (1, 2, 5)}\n"
     ]
    }
   ],
   "source": [
    "A = [4, 5]\n",
    "B = [1, 2, 3]\n",
    "AB = A+B\n",
    "\n",
    "ABs=sorted(A+B)\n",
    "print(AB,ABs)\n",
    "\n",
    "comb=itertools.combinations(AB,3)\n",
    "print(set(comb))\n",
    "\n",
    "combs=itertools.combinations(ABs,3)\n",
    "print(set(combs))"
   ]
  },
  {
   "cell_type": "code",
   "execution_count": 15,
   "metadata": {},
   "outputs": [
    {
     "name": "stdout",
     "output_type": "stream",
     "text": [
      "[3, 4, 1, 2, 3] [1, 2, 3, 3, 4]\n",
      "{(3, 4, 3), (4, 1, 3), (1, 2, 3), (4, 2, 3), (3, 4, 1), (3, 1, 3), (4, 1, 2), (3, 2, 3), (3, 4, 2), (3, 1, 2)}\n",
      "{(2, 3, 3), (1, 2, 3), (3, 3, 4), (1, 2, 4), (1, 3, 4), (2, 3, 4), (1, 3, 3)}\n"
     ]
    }
   ],
   "source": [
    "A = [3, 4]\n",
    "B = [1, 2, 3]\n",
    "AB = A+B\n",
    "\n",
    "ABs=sorted(A+B)\n",
    "print(AB,ABs)\n",
    "\n",
    "comb=itertools.combinations(AB,3)\n",
    "print(set(comb))\n",
    "\n",
    "combs=itertools.combinations(ABs,3)\n",
    "print(set(combs))"
   ]
  },
  {
   "cell_type": "code",
   "execution_count": 16,
   "metadata": {},
   "outputs": [
    {
     "name": "stdout",
     "output_type": "stream",
     "text": [
      "[3, 4, 1, 2, 2] [1, 2, 2, 3, 4]\n",
      "{(4, 2, 2), (1, 2, 2), (3, 2, 2), (3, 4, 1), (4, 1, 2), (3, 4, 2), (3, 1, 2)}\n",
      "{(1, 2, 2), (2, 2, 4), (1, 2, 3), (1, 2, 4), (1, 3, 4), (2, 3, 4), (2, 2, 3)}\n"
     ]
    }
   ],
   "source": [
    "A = [3, 4]\n",
    "B = [1, 2, 2]\n",
    "AB = A+B\n",
    "\n",
    "ABs=sorted(A+B)\n",
    "print(AB,ABs)\n",
    "\n",
    "comb=itertools.combinations(AB,3)\n",
    "print(set(comb))\n",
    "\n",
    "combs=itertools.combinations(ABs,3)\n",
    "print(set(combs))"
   ]
  },
  {
   "cell_type": "code",
   "execution_count": 17,
   "metadata": {},
   "outputs": [
    {
     "name": "stdout",
     "output_type": "stream",
     "text": [
      "[1, 2, 2, 1, 4] [1, 1, 2, 2, 4]\n",
      "{(1, 2, 1), (1, 2, 2), (2, 2, 1), (2, 1, 4), (2, 2, 4), (1, 2, 4), (1, 1, 4)}\n",
      "{(1, 2, 2), (2, 2, 4), (1, 1, 2), (1, 2, 4), (1, 1, 4)}\n"
     ]
    }
   ],
   "source": [
    "A = [1, 2,2]\n",
    "B = [1, 4]\n",
    "AB = A+B\n",
    "\n",
    "ABs=sorted(A+B)\n",
    "print(AB,ABs)\n",
    "\n",
    "comb=itertools.combinations(AB,3)\n",
    "print(set(comb))\n",
    "\n",
    "combs=itertools.combinations(ABs,3)\n",
    "print(set(combs))"
   ]
  },
  {
   "cell_type": "code",
   "execution_count": 18,
   "metadata": {},
   "outputs": [
    {
     "data": {
      "text/plain": [
       "(tuple, [1, 2, 3], list)"
      ]
     },
     "execution_count": 18,
     "metadata": {},
     "output_type": "execute_result"
    }
   ],
   "source": [
    "t=(1,3,2)\n",
    "type(t), sorted(t), type(sorted(t))"
   ]
  },
  {
   "cell_type": "code",
   "execution_count": 19,
   "metadata": {},
   "outputs": [
    {
     "name": "stdout",
     "output_type": "stream",
     "text": [
      "{(1, 1, 3), (1, 2, 2), (1, 2, 3), (1, 1, 2), (2, 2, 3)}\n",
      "1\n",
      "1\n",
      "3\n",
      "1\n",
      "2\n",
      "2\n",
      "1\n",
      "2\n",
      "3\n",
      "1\n",
      "1\n",
      "2\n",
      "2\n",
      "2\n",
      "3\n",
      "[1, 1, 2, 2, 3]\n",
      "[1, 2, 2, 3]\n",
      "[2, 2, 3]\n",
      "[2, 3]\n"
     ]
    },
    {
     "data": {
      "text/plain": [
       "[(2, 3)]"
      ]
     },
     "execution_count": 19,
     "metadata": {},
     "output_type": "execute_result"
    }
   ],
   "source": [
    "a = [1, 2, 2]\n",
    "b = [1, 3]\n",
    "ab=sorted(a+b)\n",
    "comb=list(itertools.combinations(ab,len(a)))\n",
    "print( set(comb) )\n",
    "for tuple in set(comb):\n",
    "    for num in tuple:\n",
    "        print(num)\n",
    "ab2=ab.copy()\n",
    "print(ab2)\n",
    "ab2.remove(1)\n",
    "print(ab2)\n",
    "ab2.remove(1)\n",
    "print(ab2)\n",
    "ab2.remove(2)\n",
    "print(ab2)\n",
    "list(itertools.combinations(ab2,len(ab)-len(a)))\n"
   ]
  },
  {
   "cell_type": "code",
   "execution_count": 20,
   "metadata": {},
   "outputs": [],
   "source": [
    "def combT(a,b):\n",
    "#     It is important to sort the concatenation of a and b\n",
    "#     If the numbers are not sorted, then permutations (not combinations) can get created.\n",
    "#     example: (1,2,3) (1,3,2)\n",
    "#     And it would require another step to remove these duplicated combinations\n",
    "    ab=sorted(a+b)\n",
    "    comb=list(itertools.combinations(ab,len(a)))\n",
    "#     comb is a list of tuples. Need to remove duplicates, if any, by using set()\n",
    "    comb2=[]\n",
    "    for tuplo in set(comb):\n",
    "        ab_copy=ab.copy()\n",
    "        for num in tuplo:\n",
    "            ab_copy.remove(num)\n",
    "        tupli=(*ab_copy,)\n",
    "        comb2.append( [tuplo,tupli] ) \n",
    "\n",
    "    return comb2\n",
    "        "
   ]
  },
  {
   "cell_type": "code",
   "execution_count": 21,
   "metadata": {},
   "outputs": [
    {
     "data": {
      "text/plain": [
       "[[(1, 1, 3), (2, 2)],\n",
       " [(1, 2, 2), (1, 3)],\n",
       " [(1, 2, 3), (1, 2)],\n",
       " [(1, 1, 2), (2, 3)],\n",
       " [(2, 2, 3), (1, 1)]]"
      ]
     },
     "execution_count": 21,
     "metadata": {},
     "output_type": "execute_result"
    }
   ],
   "source": [
    "a = [1, 2, 2]\n",
    "b = [1, 3]\n",
    "combT(a,b)\n"
   ]
  },
  {
   "cell_type": "code",
   "execution_count": 22,
   "metadata": {},
   "outputs": [
    {
     "data": {
      "text/plain": [
       "[([1, 1, 3], [(2, 2)]),\n",
       " ([1, 2, 2], [(1, 3)]),\n",
       " ([1, 2, 3], [(1, 2)]),\n",
       " ([1, 1, 2], [(2, 3)]),\n",
       " ([2, 2, 3], [(1, 1)])]"
      ]
     },
     "execution_count": 22,
     "metadata": {},
     "output_type": "execute_result"
    }
   ],
   "source": [
    "# flatiron solution:\n",
    "\n",
    "from itertools import combinations\n",
    "\n",
    "def combT2(a, b):\n",
    "    union = sorted(a + b)\n",
    "    all_combs = []\n",
    "    for x in set(combinations(union, len(a))):\n",
    "        union_copy = union.copy()\n",
    "        for y in x:\n",
    "            union_copy.remove(y)\n",
    "        all_combs.append((list(x), list(combinations(union_copy, len(union) - len(a)))))\n",
    "    return all_combs\n",
    "\n",
    "a = [1, 2, 2]\n",
    "b = [1, 3]\n",
    "combT2(a,b)\n"
   ]
  },
  {
   "cell_type": "markdown",
   "metadata": {},
   "source": [
    "## Permutation testing in Practice\n",
    "Let's further investigate the scenario proposed in the previous lesson. Below are two samples A and B. The samples are mock data for the blood pressure of sample patients. The research study is looking to validate whether there is a statistical difference in the blood pressure of these two groups using a 5% significance level.  First, calculate the mean blood pressure of each of the two samples. Then, calculate the difference of these means. From there, use your `combT()` function, defined above, to generate all the possible combinations of the entire sample data into A-B splits of equivalent sizes as the original sets. For each of these combinations, calculate the mean blood pressure of the two groups and record the difference between these sample means. The full collection of the difference in means between these generated samples will serve as the denominator to calculate the p-value associated with the difference between the original sample means.\n",
    "\n",
    "For example, in our small handwritten example above:\n",
    "\n",
    "$\\mu_a = \\frac{1+2+2}{3} = \\frac{5}{3}$  \n",
    "and  \n",
    "$\\mu_b = \\frac{1+3}{2} = \\frac{4}{2} = 2$  \n",
    "\n",
    "Giving us\n",
    "\n",
    "$\\mu_a - \\mu_b = \\frac{5}{3} - 2 = \\frac{1}{2}$\n",
    "\n",
    "In comparison, for our various combinations we have:\n",
    "\n",
    "([1,2,2], [1,3]):  $\\mu_a - \\mu_b = \\frac{5}{3} - 2 = \\frac{1}{2}$  \n",
    "([1,2,3], [1,2]):  $\\mu_a - \\mu_b = 2 - \\frac{3}{2} = \\frac{1}{2}$  \n",
    "([1,2,1], [2,3]):  $\\mu_a - \\mu_b = \\frac{4}{3} - \\frac{5}{3} = -\\frac{1}{2}$  \n",
    "([1,1,3], [2,2]):  $\\mu_a - \\mu_b = \\frac{5}{3} - 2 = \\frac{1}{2}$  \n",
    "([2,2,3], [1,1]):  $\\mu_a - \\mu_b = \\frac{7}{3} - 1 = \\frac{4}{3}$  \n",
    "\n",
    "A standard hypothesis test for this scenario might be:\n",
    "\n",
    "$H_0: \\mu_a = \\mu_b$  \n",
    "$H_1: \\mu_a < \\mu_b$  \n",
    "  \n",
    "Thus comparing our sample difference to the differences of our possible combinations, we look at the number of experiments from our combinations space that were the same or greater than our sample statistic, divided by the total number of combinations. In this case, 4 out of 5 of the combination cases produced the same or greater differences in the two sample means. This value .8 is a strong indication that we cannot refute the null hypothesis for this instance."
   ]
  },
  {
   "cell_type": "code",
   "execution_count": 24,
   "metadata": {},
   "outputs": [],
   "source": [
    "# a = [109.6927759 , 120.27296943, 103.54012038, 114.16555857,\n",
    "#        122.93336175, 110.9271756 , 114.77443758, 116.34159338,\n",
    "#        112.66413025, 118.30562665, 132.31196515, 117.99000948]\n",
    "# b = [123.98967482, 141.11969004, 117.00293412, 121.6419775 ,\n",
    "#        123.2703033 , 123.76944385, 105.95249634, 114.87114479,\n",
    "#        130.6878082 , 140.60768727, 121.95433026, 123.11996767,\n",
    "#        129.93260914, 121.01049611]"
   ]
  },
  {
   "cell_type": "code",
   "execution_count": 25,
   "metadata": {},
   "outputs": [],
   "source": [
    "# proposed examples make the execution of combT way too long\n",
    "# reducing their lengths\n",
    "a = [109.6927759 , 120.27296943, 103.54012038, 114.16555857,\n",
    "       112.66413025, 118.30562665, 132.31196515, 117.99000948]\n",
    "b = [123.98967482, 141.11969004, 117.00293412, 121.6419775 ,\n",
    "       129.93260914, 121.01049611]"
   ]
  },
  {
   "cell_type": "code",
   "execution_count": 26,
   "metadata": {},
   "outputs": [],
   "source": [
    "# Your code here\n",
    "# ⏰ Expect your code to take several minutes to run\n",
    "result=combT(a,b)"
   ]
  },
  {
   "cell_type": "code",
   "execution_count": 27,
   "metadata": {},
   "outputs": [
    {
     "data": {
      "text/plain": [
       "3003"
      ]
     },
     "execution_count": 27,
     "metadata": {},
     "output_type": "execute_result"
    }
   ],
   "source": [
    "len(result)"
   ]
  },
  {
   "cell_type": "code",
   "execution_count": 28,
   "metadata": {},
   "outputs": [
    {
     "data": {
      "text/plain": [
       "(8, 6, 3003)"
      ]
     },
     "execution_count": 28,
     "metadata": {},
     "output_type": "execute_result"
    }
   ],
   "source": [
    "len(a),len(b),len(result)\n"
   ]
  },
  {
   "cell_type": "code",
   "execution_count": null,
   "metadata": {},
   "outputs": [],
   "source": [
    "# number of combinations of 8 in 14 = 14!/((14-8)!8!) =3003"
   ]
  },
  {
   "cell_type": "code",
   "execution_count": 29,
   "metadata": {},
   "outputs": [
    {
     "data": {
      "text/plain": [
       "(8, 6, 2, 8, 6)"
      ]
     },
     "execution_count": 29,
     "metadata": {},
     "output_type": "execute_result"
    }
   ],
   "source": [
    "len(a),len(b),len(result[0]),len(result[0][0]),len(result[0][1])"
   ]
  },
  {
   "cell_type": "code",
   "execution_count": 30,
   "metadata": {},
   "outputs": [
    {
     "data": {
      "text/plain": [
       "(116.11789447625, 125.78289695500001, -9.665002478750012)"
      ]
     },
     "execution_count": 30,
     "metadata": {},
     "output_type": "execute_result"
    }
   ],
   "source": [
    "meana=np.mean(a)\n",
    "meanb=np.mean(b)\n",
    "diffab=meana-meanb\n",
    "meana,meanb,diffab"
   ]
  },
  {
   "cell_type": "code",
   "execution_count": 31,
   "metadata": {},
   "outputs": [
    {
     "data": {
      "text/plain": [
       "3003"
      ]
     },
     "execution_count": 31,
     "metadata": {},
     "output_type": "execute_result"
    }
   ],
   "source": [
    "list_of_diff=[]\n",
    "for elem in result:\n",
    "    list_of_diff.append(np.mean(elem[0])-np.mean(elem[1]))\n",
    "len(list_of_diff)\n"
   ]
  },
  {
   "cell_type": "code",
   "execution_count": 39,
   "metadata": {},
   "outputs": [
    {
     "data": {
      "image/png": "[encoded data removed]",
      "text/plain": [
       "<Figure size 1152x576 with 1 Axes>"
      ]
     },
     "metadata": {
      "needs_background": "light"
     },
     "output_type": "display_data"
    }
   ],
   "source": [
    "import matplotlib.pyplot as plt\n",
    "import seaborn as sns\n",
    "\n",
    "plt.figure(figsize=(16,8))\n",
    "sns.distplot (list_of_diff,label='distribution of differences of means from permutation testing')\n",
    "plt.axvline(x=abs(diffab),ymin=0,ymax=1,c='r',label = ('difference of means of the 2 initial samples'))\n",
    "plt.axvline(x=xxxxxx,ymin=0,ymax=1,c='r',label = ('+1 std'))\n",
    "\n",
    "plt.legend()\n",
    "plt.show()"
   ]
  },
  {
   "cell_type": "code",
   "execution_count": 42,
   "metadata": {},
   "outputs": [
    {
     "name": "stdout",
     "output_type": "stream",
     "text": [
      "number of mean differences higher than mean difference of the 2 initial samples  : 84\n",
      "total number of differences from permutation test:  3003\n",
      "P-value: 0.027972027972027972\n"
     ]
    }
   ],
   "source": [
    "num = 0 # Initialize numerator\n",
    "for diff in list_of_diff:\n",
    "    if diff >= abs(diffab):\n",
    "        num +=1\n",
    "p_val = num / len(list_of_diff)\n",
    "print('number of mean differences higher than mean difference of the 2 initial samples  : {}'.format(num))\n",
    "print('total number of differences from permutation test:  {}'.format(len(list_of_diff)))\n",
    "print('P-value: {}'.format(p_val))"
   ]
  },
  {
   "cell_type": "markdown",
   "metadata": {},
   "source": [
    "## T-test revisited\n",
    "\n",
    "The parametric statistical test equivalent to our permutation test above would be a t-test of the two groups. Perform a t-test on the same data above in order to calculate the p-value. How does this compare to the above results?"
   ]
  },
  {
   "cell_type": "code",
   "execution_count": null,
   "metadata": {},
   "outputs": [],
   "source": [
    "# Your code here"
   ]
  },
  {
   "cell_type": "markdown",
   "metadata": {},
   "source": [
    "## Bootstrap applied\n",
    "\n",
    "Use your code above to apply the bootstrap technique to this hypothesis testing scenario. Here's a pseudo-code outline for how to do this:\n",
    "\n",
    "1. Compute the difference between the sample means of A and B\n",
    "2. Initialize a counter for the number of times the difference of the means of resampled samples is greater then or equal to the difference of the means of the original samples\n",
    "3. Repeat the following process 10,000 times:\n",
    "    1. Use the bootstrap sampling function you used above to create new resampled versions of A and B \n",
    "    2. Compute the difference between the means of these resampled samples \n",
    "    3. If the difference between the means of the resampled samples is greater then or equal to the original difference, add 1 the counter you created in step 2\n",
    "4. Compute the ratio between the counter and the number of simulations (10,000) that you performed\n",
    "    > This ratio is the percentage of simulations in which the difference of sample means was greater than the original difference"
   ]
  },
  {
   "cell_type": "code",
   "execution_count": null,
   "metadata": {},
   "outputs": [],
   "source": [
    "# Your code here"
   ]
  },
  {
   "cell_type": "markdown",
   "metadata": {},
   "source": [
    "## Summary\n",
    "\n",
    "Well done! In this lab, you practice coding modern statistical resampling techniques of the 20th century! You also started to compare these non-parametric methods to other parametric methods such as the t-test that we previously discussed."
   ]
  }
 ],
 "metadata": {
  "kernelspec": {
   "display_name": "Python 3",
   "language": "python",
   "name": "python3"
  },
  "language_info": {
   "codemirror_mode": {
    "name": "ipython",
    "version": 3
   },
   "file_extension": ".py",
   "mimetype": "text/x-python",
   "name": "python",
   "nbconvert_exporter": "python",
   "pygments_lexer": "ipython3",
   "version": "3.6.9"
  },
  "toc": {
   "base_numbering": 1,
   "nav_menu": {},
   "number_sections": true,
   "sideBar": true,
   "skip_h1_title": false,
   "title_cell": "Table of Contents",
   "title_sidebar": "Contents",
   "toc_cell": false,
   "toc_position": {},
   "toc_section_display": true,
   "toc_window_display": false
  }
 },
 "nbformat": 4,
 "nbformat_minor": 2
}
